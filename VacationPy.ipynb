{
 "cells": [
  {
   "cell_type": "markdown",
   "id": "bffc4403",
   "metadata": {},
   "source": [
    "### 6.5.2 create heatmaps for weather params\n",
    "prepare: import the libs and create a df"
   ]
  },
  {
   "cell_type": "code",
   "execution_count": 1,
   "id": "52a1a479",
   "metadata": {},
   "outputs": [],
   "source": [
    "# Import the dependencies.\n",
    "\n",
    "import pandas as pd\n",
    "import gmaps\n",
    "import requests\n",
    "\n",
    "# Import the API key.\n",
    "from config import g_key"
   ]
  },
  {
   "cell_type": "code",
   "execution_count": 2,
   "id": "33f5d5b0",
   "metadata": {},
   "outputs": [
    {
     "data": {
      "text/html": [
       "<div>\n",
       "<style scoped>\n",
       "    .dataframe tbody tr th:only-of-type {\n",
       "        vertical-align: middle;\n",
       "    }\n",
       "\n",
       "    .dataframe tbody tr th {\n",
       "        vertical-align: top;\n",
       "    }\n",
       "\n",
       "    .dataframe thead th {\n",
       "        text-align: right;\n",
       "    }\n",
       "</style>\n",
       "<table border=\"1\" class=\"dataframe\">\n",
       "  <thead>\n",
       "    <tr style=\"text-align: right;\">\n",
       "      <th></th>\n",
       "      <th>City_ID</th>\n",
       "      <th>City</th>\n",
       "      <th>Country</th>\n",
       "      <th>Date</th>\n",
       "      <th>Lat</th>\n",
       "      <th>Lng</th>\n",
       "      <th>Max Temp</th>\n",
       "      <th>Humidity</th>\n",
       "      <th>Cloudiness</th>\n",
       "      <th>Wind Speed</th>\n",
       "    </tr>\n",
       "  </thead>\n",
       "  <tbody>\n",
       "    <tr>\n",
       "      <th>0</th>\n",
       "      <td>0</td>\n",
       "      <td>Kerman</td>\n",
       "      <td>IR</td>\n",
       "      <td>2022-08-02 23:31:46</td>\n",
       "      <td>30.2832</td>\n",
       "      <td>57.0788</td>\n",
       "      <td>71.46</td>\n",
       "      <td>28</td>\n",
       "      <td>0</td>\n",
       "      <td>9.22</td>\n",
       "    </tr>\n",
       "    <tr>\n",
       "      <th>1</th>\n",
       "      <td>1</td>\n",
       "      <td>Mount Gambier</td>\n",
       "      <td>AU</td>\n",
       "      <td>2022-08-02 23:31:47</td>\n",
       "      <td>-37.8333</td>\n",
       "      <td>140.7667</td>\n",
       "      <td>53.51</td>\n",
       "      <td>87</td>\n",
       "      <td>75</td>\n",
       "      <td>17.27</td>\n",
       "    </tr>\n",
       "    <tr>\n",
       "      <th>2</th>\n",
       "      <td>2</td>\n",
       "      <td>Barrow</td>\n",
       "      <td>US</td>\n",
       "      <td>2022-08-02 23:28:57</td>\n",
       "      <td>71.2906</td>\n",
       "      <td>-156.7887</td>\n",
       "      <td>42.82</td>\n",
       "      <td>81</td>\n",
       "      <td>0</td>\n",
       "      <td>10.36</td>\n",
       "    </tr>\n",
       "    <tr>\n",
       "      <th>3</th>\n",
       "      <td>3</td>\n",
       "      <td>Dzilam Gonzalez</td>\n",
       "      <td>MX</td>\n",
       "      <td>2022-08-02 23:31:47</td>\n",
       "      <td>21.2833</td>\n",
       "      <td>-88.9333</td>\n",
       "      <td>82.89</td>\n",
       "      <td>79</td>\n",
       "      <td>79</td>\n",
       "      <td>10.67</td>\n",
       "    </tr>\n",
       "    <tr>\n",
       "      <th>4</th>\n",
       "      <td>4</td>\n",
       "      <td>Bengkulu</td>\n",
       "      <td>ID</td>\n",
       "      <td>2022-08-02 23:31:48</td>\n",
       "      <td>-3.8004</td>\n",
       "      <td>102.2655</td>\n",
       "      <td>74.53</td>\n",
       "      <td>90</td>\n",
       "      <td>64</td>\n",
       "      <td>4.00</td>\n",
       "    </tr>\n",
       "  </tbody>\n",
       "</table>\n",
       "</div>"
      ],
      "text/plain": [
       "   City_ID             City Country                 Date      Lat       Lng  \\\n",
       "0        0           Kerman      IR  2022-08-02 23:31:46  30.2832   57.0788   \n",
       "1        1    Mount Gambier      AU  2022-08-02 23:31:47 -37.8333  140.7667   \n",
       "2        2           Barrow      US  2022-08-02 23:28:57  71.2906 -156.7887   \n",
       "3        3  Dzilam Gonzalez      MX  2022-08-02 23:31:47  21.2833  -88.9333   \n",
       "4        4         Bengkulu      ID  2022-08-02 23:31:48  -3.8004  102.2655   \n",
       "\n",
       "   Max Temp  Humidity  Cloudiness  Wind Speed  \n",
       "0     71.46        28           0        9.22  \n",
       "1     53.51        87          75       17.27  \n",
       "2     42.82        81           0       10.36  \n",
       "3     82.89        79          79       10.67  \n",
       "4     74.53        90          64        4.00  "
      ]
     },
     "execution_count": 2,
     "metadata": {},
     "output_type": "execute_result"
    }
   ],
   "source": [
    "# Store the CSV you saved created in part one into a DataFrame.\n",
    "city_data_df = pd.read_csv(\"weather_data/cities.csv\")\n",
    "city_data_df.head()"
   ]
  },
  {
   "cell_type": "code",
   "execution_count": 3,
   "id": "f339b0b9",
   "metadata": {},
   "outputs": [
    {
     "data": {
      "text/plain": [
       "City_ID         int64\n",
       "City           object\n",
       "Country        object\n",
       "Date           object\n",
       "Lat           float64\n",
       "Lng           float64\n",
       "Max Temp      float64\n",
       "Humidity        int64\n",
       "Cloudiness      int64\n",
       "Wind Speed    float64\n",
       "dtype: object"
      ]
     },
     "execution_count": 3,
     "metadata": {},
     "output_type": "execute_result"
    }
   ],
   "source": [
    "# get the data types for a df\n",
    "city_data_df.dtypes"
   ]
  },
  {
   "cell_type": "markdown",
   "id": "7c4fb9e0",
   "metadata": {},
   "source": [
    "#### Create a Maximum Temperature Heatmap\n",
    "tell gmaps to use the API key"
   ]
  },
  {
   "cell_type": "code",
   "execution_count": 4,
   "id": "421952e6",
   "metadata": {},
   "outputs": [],
   "source": [
    "# Configure gmaps to use your Google API key.\n",
    "gmaps.configure(api_key=g_key)"
   ]
  },
  {
   "cell_type": "markdown",
   "id": "ac0f7eba",
   "metadata": {},
   "source": [
    "### create the heatmap for MAX temps (build the parts)\n",
    "__NOTES RE #2:__ since google heatmaps dont plot negative # (below zero temps), use a `For` loop and create a new list of that only contains temps >= zero.\n",
    "\n",
    "OR use list comprehension: \n",
    "[max(temp, 0) for temp in max_temp]\n",
    "\n",
    "### adujst zoom, intensity, and point radius\n",
    "__NOTES RE #3:__ \n",
    "- add geographic center and zoom level so only one map shows\n",
    "`fig = gmaps.figure(center=(30.0, 31.0), zoom_level=1.5)`\n",
    "- adjust dissipation, better gradient variance, and point radius\n",
    "`heat_layer = gmaps.heatmap_layer(locations, weights=[max(temp, 0) for temp in max_temp], dissipating=False, max_intensity=300, point_radius=4)`"
   ]
  },
  {
   "cell_type": "code",
   "execution_count": 12,
   "id": "be1003b7",
   "metadata": {},
   "outputs": [
    {
     "data": {
      "application/vnd.jupyter.widget-view+json": {
       "model_id": "e62041f2706643c78776272ee8e20edb",
       "version_major": 2,
       "version_minor": 0
      },
      "text/plain": [
       "Figure(layout=FigureLayout(height='420px'))"
      ]
     },
     "metadata": {},
     "output_type": "display_data"
    }
   ],
   "source": [
    "# 1. Assign the locations to an array of latitude and longitude pairs.\n",
    "locations = city_data_df[[\"Lat\", \"Lng\"]]\n",
    "\n",
    "# 2. Assign the weights variable to some values.\n",
    "# Get the maximum temperature.\n",
    "max_temp = city_data_df[\"Max Temp\"]\n",
    "# temps = []\n",
    "# for temp in max_temp:\n",
    "#     temps.append(max(temp, 0))\n",
    "    \n",
    "    \n",
    "# 3. Assign the figure variable to the gmaps.figure() attribute.\n",
    "heat_layer = gmaps.heatmap_layer(locations, weights=[max(temp, 0) for temp in max_temp], dissipating=False, max_intensity=300, point_radius=4)\n",
    "\n",
    "\n",
    "# 4. Assign the heatmap_layer variable to the heatmap_layer attribute and add in the locations.\n",
    "heat_layer = gmaps.heatmap_layer(locations, weights=temps)\n",
    "heat_layer = gmaps.heatmap_layer(locations, weights=[max(temp, 0) for temp in max_temp])\n",
    "\n",
    "# 5. Add the heatmap layer.\n",
    "fig.add_layer(heatmap_layer)\n",
    "\n",
    "# 6. Call the figure to plot the data.\n",
    "fig"
   ]
  },
  {
   "cell_type": "markdown",
   "id": "c616ab02",
   "metadata": {},
   "source": [
    "### create a percent humidity heat map"
   ]
  },
  {
   "cell_type": "code",
   "execution_count": 13,
   "id": "87c822b6",
   "metadata": {},
   "outputs": [
    {
     "data": {
      "application/vnd.jupyter.widget-view+json": {
       "model_id": "33da85eeb04b4b099e6b5d60dafac5d0",
       "version_major": 2,
       "version_minor": 0
      },
      "text/plain": [
       "Figure(layout=FigureLayout(height='420px'))"
      ]
     },
     "metadata": {},
     "output_type": "display_data"
    }
   ],
   "source": [
    "# Heatmap of percent humidity\n",
    "locations = city_data_df[[\"Lat\", \"Lng\"]]\n",
    "humidity = city_data_df[\"Humidity\"]\n",
    "\n",
    "fig = gmaps.figure(center=(30.0, 31.0), zoom_level=1.5)\n",
    "\n",
    "heat_layer = gmaps.heatmap_layer(locations, weights=humidity, dissipating=False, max_intensity=300, point_radius=4)\n",
    "\n",
    "fig.add_layer(heat_layer)\n",
    "# Call the figure to plot the data.\n",
    "fig"
   ]
  },
  {
   "cell_type": "markdown",
   "id": "ca2917d1",
   "metadata": {},
   "source": [
    "refactor humidity code for cloudiness\n",
    "1. update cloud df call\n",
    "2. update weights  in heat_layer"
   ]
  },
  {
   "cell_type": "code",
   "execution_count": 16,
   "id": "7f221295",
   "metadata": {},
   "outputs": [
    {
     "data": {
      "application/vnd.jupyter.widget-view+json": {
       "model_id": "0d1c9d7af3eb4ceb8708ca87413a2c77",
       "version_major": 2,
       "version_minor": 0
      },
      "text/plain": [
       "Figure(layout=FigureLayout(height='420px'))"
      ]
     },
     "metadata": {},
     "output_type": "display_data"
    }
   ],
   "source": [
    "# Heatmap of cloudiness\n",
    "locations = city_data_df[[\"Lat\", \"Lng\"]]\n",
    "clouds = city_data_df[\"Cloudiness\"]\n",
    "\n",
    "fig = gmaps.figure(center=(30.0, 31.0), zoom_level=1.5)\n",
    "\n",
    "heat_layer = gmaps.heatmap_layer(locations, weights=clouds, dissipating=False, max_intensity=300, point_radius=4)\n",
    "\n",
    "fig.add_layer(heat_layer)\n",
    "# Call the figure to plot the data.\n",
    "fig"
   ]
  },
  {
   "cell_type": "markdown",
   "id": "7cc72bee",
   "metadata": {},
   "source": [
    "### Create a wind speed heatmap"
   ]
  },
  {
   "cell_type": "code",
   "execution_count": 18,
   "id": "b5c7882f",
   "metadata": {},
   "outputs": [
    {
     "data": {
      "application/vnd.jupyter.widget-view+json": {
       "model_id": "8a406949b938470e937e9df5b72378ab",
       "version_major": 2,
       "version_minor": 0
      },
      "text/plain": [
       "Figure(layout=FigureLayout(height='420px'))"
      ]
     },
     "metadata": {},
     "output_type": "display_data"
    }
   ],
   "source": [
    "# Heatmap for wind speed\n",
    "locations = city_data_df[[\"Lat\", \"Lng\"]]\n",
    "wind = city_data_df[\"Wind Speed\"]\n",
    "\n",
    "fig = gmaps.figure(center=(30.0, 31.0), zoom_level=1.5)\n",
    "\n",
    "heat_layer = gmaps.heatmap_layer(locations, weights=wind, dissipating=False, max_intensity=300, point_radius=4)\n",
    "\n",
    "fig.add_layer(heat_layer)\n",
    "# Call the figure to plot the data.\n",
    "fig"
   ]
  },
  {
   "cell_type": "markdown",
   "id": "067f0364",
   "metadata": {},
   "source": [
    "### 6.5.3 vacation criteria\n",
    "prompt the user to enter the min/max temp as floating-point decimal.\n",
    "- use the `input()` statement to prompt a user to enter information. To convert the input to a floating-point decimal number, wrap the `input()` statement with the `float()` method, like this: `float(input())`.\n",
    "\n",
    "create a new DataFrame with the cities that meet the customer's criteria.\n",
    "-  use the `loc[]` method on the current DF to create a new DF. Inside the brackets, add the conditional filter."
   ]
  },
  {
   "cell_type": "code",
   "execution_count": 20,
   "id": "42ae933d",
   "metadata": {},
   "outputs": [
    {
     "name": "stdout",
     "output_type": "stream",
     "text": [
      "What is the minimum temperature you would like for your trip? 65\n",
      "What is the maximum temperature you would like for your trip? 80\n"
     ]
    }
   ],
   "source": [
    "# Ask the customer to add a minimum and maximum temperature value.\n",
    "min_temp = float(input(\"What is the minimum temperature you would like for your trip? \"))\n",
    "max_temp = float(input(\"What is the maximum temperature you would like for your trip? \"))"
   ]
  },
  {
   "cell_type": "code",
   "execution_count": 21,
   "id": "b3d576df",
   "metadata": {},
   "outputs": [
    {
     "data": {
      "text/html": [
       "<div>\n",
       "<style scoped>\n",
       "    .dataframe tbody tr th:only-of-type {\n",
       "        vertical-align: middle;\n",
       "    }\n",
       "\n",
       "    .dataframe tbody tr th {\n",
       "        vertical-align: top;\n",
       "    }\n",
       "\n",
       "    .dataframe thead th {\n",
       "        text-align: right;\n",
       "    }\n",
       "</style>\n",
       "<table border=\"1\" class=\"dataframe\">\n",
       "  <thead>\n",
       "    <tr style=\"text-align: right;\">\n",
       "      <th></th>\n",
       "      <th>City_ID</th>\n",
       "      <th>City</th>\n",
       "      <th>Country</th>\n",
       "      <th>Date</th>\n",
       "      <th>Lat</th>\n",
       "      <th>Lng</th>\n",
       "      <th>Max Temp</th>\n",
       "      <th>Humidity</th>\n",
       "      <th>Cloudiness</th>\n",
       "      <th>Wind Speed</th>\n",
       "    </tr>\n",
       "  </thead>\n",
       "  <tbody>\n",
       "    <tr>\n",
       "      <th>0</th>\n",
       "      <td>0</td>\n",
       "      <td>Kerman</td>\n",
       "      <td>IR</td>\n",
       "      <td>2022-08-02 23:31:46</td>\n",
       "      <td>30.2832</td>\n",
       "      <td>57.0788</td>\n",
       "      <td>71.46</td>\n",
       "      <td>28</td>\n",
       "      <td>0</td>\n",
       "      <td>9.22</td>\n",
       "    </tr>\n",
       "    <tr>\n",
       "      <th>4</th>\n",
       "      <td>4</td>\n",
       "      <td>Bengkulu</td>\n",
       "      <td>ID</td>\n",
       "      <td>2022-08-02 23:31:48</td>\n",
       "      <td>-3.8004</td>\n",
       "      <td>102.2655</td>\n",
       "      <td>74.53</td>\n",
       "      <td>90</td>\n",
       "      <td>64</td>\n",
       "      <td>4.00</td>\n",
       "    </tr>\n",
       "    <tr>\n",
       "      <th>7</th>\n",
       "      <td>7</td>\n",
       "      <td>Atuona</td>\n",
       "      <td>PF</td>\n",
       "      <td>2022-08-02 23:28:46</td>\n",
       "      <td>-9.8000</td>\n",
       "      <td>-139.0333</td>\n",
       "      <td>77.31</td>\n",
       "      <td>76</td>\n",
       "      <td>9</td>\n",
       "      <td>14.58</td>\n",
       "    </tr>\n",
       "    <tr>\n",
       "      <th>9</th>\n",
       "      <td>9</td>\n",
       "      <td>Benoy</td>\n",
       "      <td>TD</td>\n",
       "      <td>2022-08-02 23:31:49</td>\n",
       "      <td>8.9833</td>\n",
       "      <td>16.3199</td>\n",
       "      <td>70.72</td>\n",
       "      <td>94</td>\n",
       "      <td>100</td>\n",
       "      <td>4.65</td>\n",
       "    </tr>\n",
       "    <tr>\n",
       "      <th>10</th>\n",
       "      <td>10</td>\n",
       "      <td>Jamestown</td>\n",
       "      <td>US</td>\n",
       "      <td>2022-08-02 23:31:50</td>\n",
       "      <td>42.0970</td>\n",
       "      <td>-79.2353</td>\n",
       "      <td>74.05</td>\n",
       "      <td>47</td>\n",
       "      <td>100</td>\n",
       "      <td>6.91</td>\n",
       "    </tr>\n",
       "    <tr>\n",
       "      <th>11</th>\n",
       "      <td>11</td>\n",
       "      <td>Airai</td>\n",
       "      <td>TL</td>\n",
       "      <td>2022-08-02 23:31:34</td>\n",
       "      <td>-8.9266</td>\n",
       "      <td>125.4092</td>\n",
       "      <td>66.52</td>\n",
       "      <td>42</td>\n",
       "      <td>64</td>\n",
       "      <td>2.37</td>\n",
       "    </tr>\n",
       "    <tr>\n",
       "      <th>14</th>\n",
       "      <td>14</td>\n",
       "      <td>Korla</td>\n",
       "      <td>CN</td>\n",
       "      <td>2022-08-02 23:31:50</td>\n",
       "      <td>41.7597</td>\n",
       "      <td>86.1469</td>\n",
       "      <td>75.22</td>\n",
       "      <td>45</td>\n",
       "      <td>1</td>\n",
       "      <td>3.53</td>\n",
       "    </tr>\n",
       "    <tr>\n",
       "      <th>15</th>\n",
       "      <td>15</td>\n",
       "      <td>Los Llanos De Aridane</td>\n",
       "      <td>ES</td>\n",
       "      <td>2022-08-02 23:31:51</td>\n",
       "      <td>28.6585</td>\n",
       "      <td>-17.9182</td>\n",
       "      <td>67.75</td>\n",
       "      <td>83</td>\n",
       "      <td>20</td>\n",
       "      <td>18.41</td>\n",
       "    </tr>\n",
       "    <tr>\n",
       "      <th>16</th>\n",
       "      <td>16</td>\n",
       "      <td>Georgetown</td>\n",
       "      <td>MY</td>\n",
       "      <td>2022-08-02 23:30:07</td>\n",
       "      <td>5.4112</td>\n",
       "      <td>100.3354</td>\n",
       "      <td>78.89</td>\n",
       "      <td>93</td>\n",
       "      <td>40</td>\n",
       "      <td>9.22</td>\n",
       "    </tr>\n",
       "    <tr>\n",
       "      <th>18</th>\n",
       "      <td>18</td>\n",
       "      <td>Taonan</td>\n",
       "      <td>CN</td>\n",
       "      <td>2022-08-02 23:31:52</td>\n",
       "      <td>45.3333</td>\n",
       "      <td>122.7833</td>\n",
       "      <td>75.85</td>\n",
       "      <td>74</td>\n",
       "      <td>100</td>\n",
       "      <td>7.74</td>\n",
       "    </tr>\n",
       "  </tbody>\n",
       "</table>\n",
       "</div>"
      ],
      "text/plain": [
       "    City_ID                   City Country                 Date      Lat  \\\n",
       "0         0                 Kerman      IR  2022-08-02 23:31:46  30.2832   \n",
       "4         4               Bengkulu      ID  2022-08-02 23:31:48  -3.8004   \n",
       "7         7                 Atuona      PF  2022-08-02 23:28:46  -9.8000   \n",
       "9         9                  Benoy      TD  2022-08-02 23:31:49   8.9833   \n",
       "10       10              Jamestown      US  2022-08-02 23:31:50  42.0970   \n",
       "11       11                  Airai      TL  2022-08-02 23:31:34  -8.9266   \n",
       "14       14                  Korla      CN  2022-08-02 23:31:50  41.7597   \n",
       "15       15  Los Llanos De Aridane      ES  2022-08-02 23:31:51  28.6585   \n",
       "16       16             Georgetown      MY  2022-08-02 23:30:07   5.4112   \n",
       "18       18                 Taonan      CN  2022-08-02 23:31:52  45.3333   \n",
       "\n",
       "         Lng  Max Temp  Humidity  Cloudiness  Wind Speed  \n",
       "0    57.0788     71.46        28           0        9.22  \n",
       "4   102.2655     74.53        90          64        4.00  \n",
       "7  -139.0333     77.31        76           9       14.58  \n",
       "9    16.3199     70.72        94         100        4.65  \n",
       "10  -79.2353     74.05        47         100        6.91  \n",
       "11  125.4092     66.52        42          64        2.37  \n",
       "14   86.1469     75.22        45           1        3.53  \n",
       "15  -17.9182     67.75        83          20       18.41  \n",
       "16  100.3354     78.89        93          40        9.22  \n",
       "18  122.7833     75.85        74         100        7.74  "
      ]
     },
     "execution_count": 21,
     "metadata": {},
     "output_type": "execute_result"
    }
   ],
   "source": [
    "# Filter the dataset to find the cities that fit the criteria.\n",
    "preferred_cities_df = city_data_df.loc[(city_data_df[\"Max Temp\"] <= max_temp) & \\\n",
    "                                       (city_data_df[\"Max Temp\"] >= min_temp)]\n",
    "preferred_cities_df.head(10)"
   ]
  },
  {
   "cell_type": "code",
   "execution_count": 25,
   "id": "d8529876",
   "metadata": {},
   "outputs": [
    {
     "data": {
      "text/plain": [
       "City_ID       246\n",
       "City          246\n",
       "Country       246\n",
       "Date          246\n",
       "Lat           246\n",
       "Lng           246\n",
       "Max Temp      246\n",
       "Humidity      246\n",
       "Cloudiness    246\n",
       "Wind Speed    246\n",
       "dtype: int64"
      ]
     },
     "execution_count": 25,
     "metadata": {},
     "output_type": "execute_result"
    }
   ],
   "source": [
    "#check for null values \n",
    "preferred_cities_df.count()\n",
    "preferred_cities_df.isnull().sum()\n",
    "preferred_cities_df.notnull().sum()"
   ]
  },
  {
   "cell_type": "markdown",
   "id": "ef2ee181",
   "metadata": {},
   "source": [
    "### 6.5.4 Map Vacation Criteria\n",
    "retreive hotel information, store it for reference, and add popup markers"
   ]
  },
  {
   "cell_type": "markdown",
   "id": "a16b0f84",
   "metadata": {},
   "source": [
    "create a new DF for hotel info"
   ]
  },
  {
   "cell_type": "code",
   "execution_count": 26,
   "id": "a38b1c69",
   "metadata": {},
   "outputs": [
    {
     "data": {
      "text/html": [
       "<div>\n",
       "<style scoped>\n",
       "    .dataframe tbody tr th:only-of-type {\n",
       "        vertical-align: middle;\n",
       "    }\n",
       "\n",
       "    .dataframe tbody tr th {\n",
       "        vertical-align: top;\n",
       "    }\n",
       "\n",
       "    .dataframe thead th {\n",
       "        text-align: right;\n",
       "    }\n",
       "</style>\n",
       "<table border=\"1\" class=\"dataframe\">\n",
       "  <thead>\n",
       "    <tr style=\"text-align: right;\">\n",
       "      <th></th>\n",
       "      <th>City</th>\n",
       "      <th>Country</th>\n",
       "      <th>Max Temp</th>\n",
       "      <th>Lat</th>\n",
       "      <th>Lng</th>\n",
       "      <th>Hotel Name</th>\n",
       "    </tr>\n",
       "  </thead>\n",
       "  <tbody>\n",
       "    <tr>\n",
       "      <th>0</th>\n",
       "      <td>Kerman</td>\n",
       "      <td>IR</td>\n",
       "      <td>71.46</td>\n",
       "      <td>30.2832</td>\n",
       "      <td>57.0788</td>\n",
       "      <td></td>\n",
       "    </tr>\n",
       "    <tr>\n",
       "      <th>4</th>\n",
       "      <td>Bengkulu</td>\n",
       "      <td>ID</td>\n",
       "      <td>74.53</td>\n",
       "      <td>-3.8004</td>\n",
       "      <td>102.2655</td>\n",
       "      <td></td>\n",
       "    </tr>\n",
       "    <tr>\n",
       "      <th>7</th>\n",
       "      <td>Atuona</td>\n",
       "      <td>PF</td>\n",
       "      <td>77.31</td>\n",
       "      <td>-9.8000</td>\n",
       "      <td>-139.0333</td>\n",
       "      <td></td>\n",
       "    </tr>\n",
       "    <tr>\n",
       "      <th>9</th>\n",
       "      <td>Benoy</td>\n",
       "      <td>TD</td>\n",
       "      <td>70.72</td>\n",
       "      <td>8.9833</td>\n",
       "      <td>16.3199</td>\n",
       "      <td></td>\n",
       "    </tr>\n",
       "    <tr>\n",
       "      <th>10</th>\n",
       "      <td>Jamestown</td>\n",
       "      <td>US</td>\n",
       "      <td>74.05</td>\n",
       "      <td>42.0970</td>\n",
       "      <td>-79.2353</td>\n",
       "      <td></td>\n",
       "    </tr>\n",
       "    <tr>\n",
       "      <th>11</th>\n",
       "      <td>Airai</td>\n",
       "      <td>TL</td>\n",
       "      <td>66.52</td>\n",
       "      <td>-8.9266</td>\n",
       "      <td>125.4092</td>\n",
       "      <td></td>\n",
       "    </tr>\n",
       "    <tr>\n",
       "      <th>14</th>\n",
       "      <td>Korla</td>\n",
       "      <td>CN</td>\n",
       "      <td>75.22</td>\n",
       "      <td>41.7597</td>\n",
       "      <td>86.1469</td>\n",
       "      <td></td>\n",
       "    </tr>\n",
       "    <tr>\n",
       "      <th>15</th>\n",
       "      <td>Los Llanos De Aridane</td>\n",
       "      <td>ES</td>\n",
       "      <td>67.75</td>\n",
       "      <td>28.6585</td>\n",
       "      <td>-17.9182</td>\n",
       "      <td></td>\n",
       "    </tr>\n",
       "    <tr>\n",
       "      <th>16</th>\n",
       "      <td>Georgetown</td>\n",
       "      <td>MY</td>\n",
       "      <td>78.89</td>\n",
       "      <td>5.4112</td>\n",
       "      <td>100.3354</td>\n",
       "      <td></td>\n",
       "    </tr>\n",
       "    <tr>\n",
       "      <th>18</th>\n",
       "      <td>Taonan</td>\n",
       "      <td>CN</td>\n",
       "      <td>75.85</td>\n",
       "      <td>45.3333</td>\n",
       "      <td>122.7833</td>\n",
       "      <td></td>\n",
       "    </tr>\n",
       "  </tbody>\n",
       "</table>\n",
       "</div>"
      ],
      "text/plain": [
       "                     City Country  Max Temp      Lat       Lng Hotel Name\n",
       "0                  Kerman      IR     71.46  30.2832   57.0788           \n",
       "4                Bengkulu      ID     74.53  -3.8004  102.2655           \n",
       "7                  Atuona      PF     77.31  -9.8000 -139.0333           \n",
       "9                   Benoy      TD     70.72   8.9833   16.3199           \n",
       "10              Jamestown      US     74.05  42.0970  -79.2353           \n",
       "11                  Airai      TL     66.52  -8.9266  125.4092           \n",
       "14                  Korla      CN     75.22  41.7597   86.1469           \n",
       "15  Los Llanos De Aridane      ES     67.75  28.6585  -17.9182           \n",
       "16             Georgetown      MY     78.89   5.4112  100.3354           \n",
       "18                 Taonan      CN     75.85  45.3333  122.7833           "
      ]
     },
     "execution_count": 26,
     "metadata": {},
     "output_type": "execute_result"
    }
   ],
   "source": [
    "# Create DataFrame called hotel_df to store hotel names along with city, country, max temp, and coordinates.\n",
    "hotel_df = preferred_cities_df[[\"City\", \"Country\", \"Max Temp\", \"Lat\", \"Lng\"]].copy()\n",
    "hotel_df[\"Hotel Name\"] = \"\"\n",
    "hotel_df.head(10)"
   ]
  },
  {
   "cell_type": "markdown",
   "id": "ab1ee44b",
   "metadata": {},
   "source": [
    "#### Retrieve Hotels from a Nearby Search\n",
    "use the Google Places Nearby Search request to retrieve a hotel and add it to the Hotel Name column."
   ]
  },
  {
   "cell_type": "code",
   "execution_count": 28,
   "id": "747867c7",
   "metadata": {},
   "outputs": [],
   "source": [
    "# Set the parameters to search for a hotel in Paris.\n",
    "params = {\n",
    "    \"radius\": 5000,\n",
    "    \"types\": \"lodging\",\n",
    "    \"key\": g_key,\n",
    "    }\n"
   ]
  },
  {
   "cell_type": "code",
   "execution_count": 29,
   "id": "83c01b4e",
   "metadata": {},
   "outputs": [
    {
     "name": "stdout",
     "output_type": "stream",
     "text": [
      "Hotel not found... skipping.\n",
      "Hotel not found... skipping.\n",
      "Hotel not found... skipping.\n",
      "Hotel not found... skipping.\n",
      "Hotel not found... skipping.\n",
      "Hotel not found... skipping.\n",
      "Hotel not found... skipping.\n",
      "Hotel not found... skipping.\n",
      "Hotel not found... skipping.\n",
      "Hotel not found... skipping.\n",
      "Hotel not found... skipping.\n",
      "Hotel not found... skipping.\n",
      "Hotel not found... skipping.\n",
      "Hotel not found... skipping.\n",
      "Hotel not found... skipping.\n",
      "Hotel not found... skipping.\n",
      "Hotel not found... skipping.\n",
      "Hotel not found... skipping.\n"
     ]
    }
   ],
   "source": [
    "# Iterate through the DataFrame (with a for loop to update first hotel in the hotel_df).\n",
    "for index, row in hotel_df.iterrows():\n",
    "    \n",
    "    # Get the latitude and longitude.\n",
    "    lat = row[\"Lat\"]\n",
    "    lng = row[\"Lng\"]\n",
    "\n",
    "    # Add the latitude and longitude to location key for the params dictionary.\n",
    "    params[\"location\"] = f\"{lat},{lng}\"\n",
    "\n",
    "    # Use the search term: \"lodging\" and our latitude and longitude.\n",
    "    base_url = \"https://maps.googleapis.com/maps/api/place/nearbysearch/json\"\n",
    "    \n",
    "    # Make request and get the JSON data from the search.\n",
    "    hotels = requests.get(base_url, params=params).json()\n",
    "    \n",
    "    # Grab the first hotel from the results and store the name.\n",
    "    try:\n",
    "        hotel_df.loc[index, \"Hotel Name\"] = hotels[\"results\"][0][\"name\"]\n",
    "    except (IndexError):\n",
    "        print(\"Hotel not found... skipping.\")"
   ]
  },
  {
   "cell_type": "code",
   "execution_count": 30,
   "id": "1b1f2fcc",
   "metadata": {},
   "outputs": [
    {
     "data": {
      "text/html": [
       "<div>\n",
       "<style scoped>\n",
       "    .dataframe tbody tr th:only-of-type {\n",
       "        vertical-align: middle;\n",
       "    }\n",
       "\n",
       "    .dataframe tbody tr th {\n",
       "        vertical-align: top;\n",
       "    }\n",
       "\n",
       "    .dataframe thead th {\n",
       "        text-align: right;\n",
       "    }\n",
       "</style>\n",
       "<table border=\"1\" class=\"dataframe\">\n",
       "  <thead>\n",
       "    <tr style=\"text-align: right;\">\n",
       "      <th></th>\n",
       "      <th>City</th>\n",
       "      <th>Country</th>\n",
       "      <th>Max Temp</th>\n",
       "      <th>Lat</th>\n",
       "      <th>Lng</th>\n",
       "      <th>Hotel Name</th>\n",
       "    </tr>\n",
       "  </thead>\n",
       "  <tbody>\n",
       "    <tr>\n",
       "      <th>0</th>\n",
       "      <td>Kerman</td>\n",
       "      <td>IR</td>\n",
       "      <td>71.46</td>\n",
       "      <td>30.2832</td>\n",
       "      <td>57.0788</td>\n",
       "      <td>هتل آپارتمان آسام</td>\n",
       "    </tr>\n",
       "    <tr>\n",
       "      <th>4</th>\n",
       "      <td>Bengkulu</td>\n",
       "      <td>ID</td>\n",
       "      <td>74.53</td>\n",
       "      <td>-3.8004</td>\n",
       "      <td>102.2655</td>\n",
       "      <td>Grage Hotel Bengkulu</td>\n",
       "    </tr>\n",
       "    <tr>\n",
       "      <th>7</th>\n",
       "      <td>Atuona</td>\n",
       "      <td>PF</td>\n",
       "      <td>77.31</td>\n",
       "      <td>-9.8000</td>\n",
       "      <td>-139.0333</td>\n",
       "      <td>Villa Enata</td>\n",
       "    </tr>\n",
       "    <tr>\n",
       "      <th>9</th>\n",
       "      <td>Benoy</td>\n",
       "      <td>TD</td>\n",
       "      <td>70.72</td>\n",
       "      <td>8.9833</td>\n",
       "      <td>16.3199</td>\n",
       "      <td></td>\n",
       "    </tr>\n",
       "    <tr>\n",
       "      <th>10</th>\n",
       "      <td>Jamestown</td>\n",
       "      <td>US</td>\n",
       "      <td>74.05</td>\n",
       "      <td>42.0970</td>\n",
       "      <td>-79.2353</td>\n",
       "      <td>Hampton Inn &amp; Suites Jamestown</td>\n",
       "    </tr>\n",
       "    <tr>\n",
       "      <th>11</th>\n",
       "      <td>Airai</td>\n",
       "      <td>TL</td>\n",
       "      <td>66.52</td>\n",
       "      <td>-8.9266</td>\n",
       "      <td>125.4092</td>\n",
       "      <td></td>\n",
       "    </tr>\n",
       "    <tr>\n",
       "      <th>14</th>\n",
       "      <td>Korla</td>\n",
       "      <td>CN</td>\n",
       "      <td>75.22</td>\n",
       "      <td>41.7597</td>\n",
       "      <td>86.1469</td>\n",
       "      <td>Gulisitan Hotel</td>\n",
       "    </tr>\n",
       "    <tr>\n",
       "      <th>15</th>\n",
       "      <td>Los Llanos De Aridane</td>\n",
       "      <td>ES</td>\n",
       "      <td>67.75</td>\n",
       "      <td>28.6585</td>\n",
       "      <td>-17.9182</td>\n",
       "      <td>Valle Aridane</td>\n",
       "    </tr>\n",
       "    <tr>\n",
       "      <th>16</th>\n",
       "      <td>Georgetown</td>\n",
       "      <td>MY</td>\n",
       "      <td>78.89</td>\n",
       "      <td>5.4112</td>\n",
       "      <td>100.3354</td>\n",
       "      <td>Cititel Penang</td>\n",
       "    </tr>\n",
       "    <tr>\n",
       "      <th>18</th>\n",
       "      <td>Taonan</td>\n",
       "      <td>CN</td>\n",
       "      <td>75.85</td>\n",
       "      <td>45.3333</td>\n",
       "      <td>122.7833</td>\n",
       "      <td>Makro Hotel</td>\n",
       "    </tr>\n",
       "  </tbody>\n",
       "</table>\n",
       "</div>"
      ],
      "text/plain": [
       "                     City Country  Max Temp      Lat       Lng  \\\n",
       "0                  Kerman      IR     71.46  30.2832   57.0788   \n",
       "4                Bengkulu      ID     74.53  -3.8004  102.2655   \n",
       "7                  Atuona      PF     77.31  -9.8000 -139.0333   \n",
       "9                   Benoy      TD     70.72   8.9833   16.3199   \n",
       "10              Jamestown      US     74.05  42.0970  -79.2353   \n",
       "11                  Airai      TL     66.52  -8.9266  125.4092   \n",
       "14                  Korla      CN     75.22  41.7597   86.1469   \n",
       "15  Los Llanos De Aridane      ES     67.75  28.6585  -17.9182   \n",
       "16             Georgetown      MY     78.89   5.4112  100.3354   \n",
       "18                 Taonan      CN     75.85  45.3333  122.7833   \n",
       "\n",
       "                        Hotel Name  \n",
       "0                هتل آپارتمان آسام  \n",
       "4             Grage Hotel Bengkulu  \n",
       "7                      Villa Enata  \n",
       "9                                   \n",
       "10  Hampton Inn & Suites Jamestown  \n",
       "11                                  \n",
       "14                 Gulisitan Hotel  \n",
       "15                   Valle Aridane  \n",
       "16                  Cititel Penang  \n",
       "18                     Makro Hotel  "
      ]
     },
     "execution_count": 30,
     "metadata": {},
     "output_type": "execute_result"
    }
   ],
   "source": [
    "hotel_df.head(10)"
   ]
  },
  {
   "cell_type": "markdown",
   "id": "5d09becc",
   "metadata": {},
   "source": [
    "### Create Max temp heatmap from HotelDF\n",
    "heat map and markers\n",
    "- add `marker_layer` line to add a marker\n",
    "- add `info_box` after location in the `marker_layer` to add hotel info to the marker"
   ]
  },
  {
   "cell_type": "code",
   "execution_count": 34,
   "id": "dfe6fb6e",
   "metadata": {},
   "outputs": [],
   "source": [
    "# HTML code for marker label data\n",
    "info_box_template = \"\"\"\n",
    "<dl>\n",
    "<dt>Hotel Name</dt><dd>{Hotel Name}</dd>\n",
    "<dt>City</dt><dd>{City}</dd>\n",
    "<dt>Country</dt><dd>{Country}</dd>\n",
    "<dt>Max Temp</dt><dd>{Max Temp} °F</dd>\n",
    "</dl>\n",
    "\"\"\"\n",
    "# Store the DataFrame Row.\n",
    "hotel_info = [info_box_template.format(**row) for index, row in hotel_df.iterrows()]"
   ]
  },
  {
   "cell_type": "code",
   "execution_count": 35,
   "id": "b1b0cba2",
   "metadata": {},
   "outputs": [
    {
     "data": {
      "application/vnd.jupyter.widget-view+json": {
       "model_id": "3998eae2ecc1455c88b03e6bf55d5733",
       "version_major": 2,
       "version_minor": 0
      },
      "text/plain": [
       "Figure(layout=FigureLayout(height='420px'))"
      ]
     },
     "metadata": {},
     "output_type": "display_data"
    }
   ],
   "source": [
    "# Add a heatmap of temperature for the vacation spots.\n",
    "locations = hotel_df[[\"Lat\", \"Lng\"]]\n",
    "max_temp = hotel_df[\"Max Temp\"]\n",
    "fig = gmaps.figure(center=(30.0, 31.0), zoom_level=1.5)\n",
    "heat_layer = gmaps.heatmap_layer(locations\n",
    "                                 , weights=max_temp\n",
    "                                 , dissipating=False\n",
    "                                 , max_intensity=300\n",
    "                                 , point_radius=4)\n",
    "\n",
    "marker_layer = gmaps.marker_layer(locations, info_box_content=hotel_info)\n",
    "fig.add_layer(heat_layer)\n",
    "fig.add_layer(marker_layer)\n",
    "\n",
    "# Call the figure to plot the data.\n",
    "fig"
   ]
  }
 ],
 "metadata": {
  "kernelspec": {
   "display_name": "PythonData",
   "language": "python",
   "name": "pythondata"
  },
  "language_info": {
   "codemirror_mode": {
    "name": "ipython",
    "version": 3
   },
   "file_extension": ".py",
   "mimetype": "text/x-python",
   "name": "python",
   "nbconvert_exporter": "python",
   "pygments_lexer": "ipython3",
   "version": "3.7.13"
  }
 },
 "nbformat": 4,
 "nbformat_minor": 5
}
